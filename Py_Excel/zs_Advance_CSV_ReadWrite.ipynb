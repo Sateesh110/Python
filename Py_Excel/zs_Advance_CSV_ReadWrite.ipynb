{
  "nbformat": 4,
  "nbformat_minor": 0,
  "metadata": {
    "kernelspec": {
      "display_name": "Python 3",
      "language": "python",
      "name": "python3"
    },
    "language_info": {
      "codemirror_mode": {
        "name": "ipython",
        "version": 3
      },
      "file_extension": ".py",
      "mimetype": "text/x-python",
      "name": "python",
      "nbconvert_exporter": "python",
      "pygments_lexer": "ipython3",
      "version": "3.7.3"
    },
    "colab": {
      "name": "zs_Advance_CSV_ReadWrite.ipynb",
      "provenance": [],
      "toc_visible": true,
      "include_colab_link": true
    }
  },
  "cells": [
    {
      "cell_type": "markdown",
      "metadata": {
        "id": "view-in-github",
        "colab_type": "text"
      },
      "source": [
        "<a href=\"https://colab.research.google.com/github/Sateesh110/Python/blob/master/Py_Excel/zs_Advance_CSV_ReadWrite.ipynb\" target=\"_parent\"><img src=\"https://colab.research.google.com/assets/colab-badge.svg\" alt=\"Open In Colab\"/></a>"
      ]
    },
    {
      "cell_type": "markdown",
      "metadata": {
        "id": "sbD2ZfQmsQrA"
      },
      "source": [
        "# Read & Write CSV Files"
      ]
    },
    {
      "cell_type": "markdown",
      "metadata": {
        "id": "jouUIM0TsQrJ"
      },
      "source": [
        "## Import Libraries"
      ]
    },
    {
      "cell_type": "code",
      "metadata": {
        "id": "I_WV9YIxsQrK"
      },
      "source": [
        "import csv\n",
        "import pandas as pd"
      ],
      "execution_count": 1,
      "outputs": []
    },
    {
      "cell_type": "code",
      "metadata": {
        "colab": {
          "base_uri": "https://localhost:8080/"
        },
        "id": "k-r6nwyIsQrL",
        "outputId": "0cd28da0-c3ff-4ed3-e2cb-f605500a8cab"
      },
      "source": [
        "print(csv.__file__)"
      ],
      "execution_count": 2,
      "outputs": [
        {
          "output_type": "stream",
          "text": [
            "/usr/lib/python3.6/csv.py\n"
          ],
          "name": "stdout"
        }
      ]
    },
    {
      "cell_type": "markdown",
      "metadata": {
        "id": "V7DsIw4_sQrN"
      },
      "source": [
        "## Read file Using csv module "
      ]
    },
    {
      "cell_type": "code",
      "metadata": {
        "id": "JaLdxCePsQrO",
        "outputId": "68ef63f8-411b-4061-cf0e-6da6e40ffdb9"
      },
      "source": [
        "with open('employee_birthday.csv') as csv_file:\n",
        "    csv_reader = csv.reader(csv_file, delimiter=',')\n",
        "    line_count = 0\n",
        "    for row in csv_reader:\n",
        "        print(f'\\t{row[0]} works in the {row[1]} department, and was born in {row[2]}')"
      ],
      "execution_count": null,
      "outputs": [
        {
          "output_type": "stream",
          "text": [
            "\tname works in the department department, and was born in birthday month\n",
            "\tJohn Smith works in the Accounting department, and was born in November\n",
            "\tErica Meyers works in the IT department, and was born in March\n"
          ],
          "name": "stdout"
        }
      ]
    },
    {
      "cell_type": "code",
      "metadata": {
        "id": "UCttYZJcsQrP",
        "outputId": "b7c6ac4d-a2f9-4888-816f-d4631b24bd50"
      },
      "source": [
        "with open('employee_birthday.csv', mode='r') as csv_file:\n",
        "    csv_reader = csv.reader(csv_file, delimiter=',')\n",
        "    line_count = 0\n",
        "    for row in csv_reader:\n",
        "        print(row)\n",
        "        print(row[0],row[1],row[2])"
      ],
      "execution_count": null,
      "outputs": [
        {
          "output_type": "stream",
          "text": [
            "['name', 'department', 'birthday month']\n",
            "name department birthday month\n",
            "['John Smith', 'Accounting', 'November']\n",
            "John Smith Accounting November\n",
            "['Erica Meyers', 'IT', 'March']\n",
            "Erica Meyers IT March\n"
          ],
          "name": "stdout"
        }
      ]
    },
    {
      "cell_type": "code",
      "metadata": {
        "id": "WWYwOrexsQrQ",
        "outputId": "b0d66062-f971-493a-d34c-46474309bbd9"
      },
      "source": [
        "with open('employee_birthday.csv') as csv_file:\n",
        "    csv_reader = csv.DictReader(csv_file, delimiter=',')\n",
        "    line_count = 0\n",
        "    for row in csv_reader:\n",
        "        print(f'\\t{row[\"name\"]} works in the {row[\"department\"]} department, and was born in {row[\"birthday month\"]}')"
      ],
      "execution_count": null,
      "outputs": [
        {
          "output_type": "stream",
          "text": [
            "\tJohn Smith works in the Accounting department, and was born in November\n",
            "\tErica Meyers works in the IT department, and was born in March\n"
          ],
          "name": "stdout"
        }
      ]
    },
    {
      "cell_type": "code",
      "metadata": {
        "id": "0rMluevGsQrQ",
        "outputId": "d0c3565e-6519-4c6c-d9df-f522f9fca2a8"
      },
      "source": [
        "with open(\"hrdata.csv\") as csv_file:\n",
        "    csv_reader = csv.reader(csv_file,delimiter=',')\n",
        "    line_count = 0\n",
        "    for line in csv_reader:\n",
        "        print(line)       "
      ],
      "execution_count": null,
      "outputs": [
        {
          "output_type": "stream",
          "text": [
            "['Name', 'Hire Date', 'Salary', 'Sick Days remaining']\n",
            "['Graham Chapman', '03/15/14', '50000.00', '10']\n",
            "['John Cleese', '06/01/15', '65000.00', '8']\n",
            "['Eric Idle', '05/12/14', '45000.00', '10']\n",
            "['Terry Jones', '11/01/13', '70000.00', '3']\n",
            "['Terry Gilliam', '08/12/14', '48000.00', '7']\n",
            "['Michael Palin', '05/23/13', '66000.00', '8']\n"
          ],
          "name": "stdout"
        }
      ]
    },
    {
      "cell_type": "code",
      "metadata": {
        "id": "TVPeYfBqsQrR",
        "outputId": "0573973e-acf0-48f9-e559-b425a6619f6c"
      },
      "source": [
        "with open(\"hrdata.csv\") as csv_file:\n",
        "    csv_reader = csv.reader(csv_file,delimiter=',')\n",
        "    line_count = 0\n",
        "    for line in csv_reader:\n",
        "        if line_count == 0:\n",
        "            print(f'header:{line}')\n",
        "            line_count+=1\n",
        "        else:\n",
        "            print(f'Data:{line}')"
      ],
      "execution_count": null,
      "outputs": [
        {
          "output_type": "stream",
          "text": [
            "header:['Name', 'Hire Date', 'Salary', 'Sick Days remaining']\n",
            "Data:['Graham Chapman', '03/15/14', '50000.00', '10']\n",
            "Data:['John Cleese', '06/01/15', '65000.00', '8']\n",
            "Data:['Eric Idle', '05/12/14', '45000.00', '10']\n",
            "Data:['Terry Jones', '11/01/13', '70000.00', '3']\n",
            "Data:['Terry Gilliam', '08/12/14', '48000.00', '7']\n",
            "Data:['Michael Palin', '05/23/13', '66000.00', '8']\n"
          ],
          "name": "stdout"
        }
      ]
    },
    {
      "cell_type": "code",
      "metadata": {
        "id": "rGgdqJjlsQrR",
        "outputId": "8356bb49-2e74-4ae3-8d34-bae791565d17"
      },
      "source": [
        "# csv file with pipe\n",
        "with open(\"hrdata_Delimited.csv\") as csv_file:\n",
        "    csv_reader = csv.reader(csv_file,delimiter='|')\n",
        "    line_count = 0\n",
        "    for line in csv_reader:\n",
        "        if line_count == 0:\n",
        "            print(f'header:{line}')\n",
        "            line_count+=1\n",
        "        else:\n",
        "            print(f'Data:{line}')"
      ],
      "execution_count": null,
      "outputs": [
        {
          "output_type": "stream",
          "text": [
            "header:['Name', 'Hire Date', 'Salary', 'Sick Days remaining']\n",
            "Data:['Graham Chapman', '03/15/14', '50000.00', '10']\n",
            "Data:['John Cleese', '06/01/15', '65000.00', '8']\n",
            "Data:['Eric Idle', '05/12/14', '45000.00', '10']\n",
            "Data:['Terry Jones', '11/01/13', '70000.00', '3']\n",
            "Data:['Terry Gilliam', '08/12/14', '48000.00', '7']\n",
            "Data:['Michael Palin', '05/23/13', '66000.00', '8']\n"
          ],
          "name": "stdout"
        }
      ]
    },
    {
      "cell_type": "code",
      "metadata": {
        "id": "IujaszirsQrS",
        "outputId": "2c5f3071-bbdc-464d-e44b-63fb5d848a39"
      },
      "source": [
        "# csv file having name in quotes\n",
        "with open(\"hrdata_QuoteChar.csv\") as csv_file:\n",
        "    csv_reader = csv.reader(csv_file,delimiter=',',quotechar ='\"')\n",
        "    line_count = 0\n",
        "    for line in csv_reader:\n",
        "        if line_count == 0:\n",
        "            print(f'header:{line}')\n",
        "            line_count+=1\n",
        "        else:\n",
        "            print(f'Data:{line}')"
      ],
      "execution_count": null,
      "outputs": [
        {
          "output_type": "stream",
          "text": [
            "header:['Name', 'Hire Date', 'Salary', 'Sick Days remaining']\n",
            "Data:['Graham Chapman', '03/15/14', '50000.00', '10']\n",
            "Data:['John, Cleese', '06/01/15', '65000.00', '8']\n",
            "Data:['Eric Idle', '05/12/14', '45000.00', '10']\n",
            "Data:['Terry, Jones', '11/01/13', '70000.00', '3']\n",
            "Data:['Terry, Gilliam', '08/12/14', '48000.00', '7']\n",
            "Data:['Michael, Palin', '05/23/13', '66000.00', '8']\n"
          ],
          "name": "stdout"
        }
      ]
    },
    {
      "cell_type": "code",
      "metadata": {
        "id": "9QxAEPrdsQrT",
        "outputId": "b32f8acc-d857-4200-cef4-02083daaee69"
      },
      "source": [
        "# csv file having name in quotes\n",
        "with open(\"hrdata_Escape.csv\") as csv_file:\n",
        "    csv_reader = csv.reader(csv_file,delimiter=',',escapechar ='|')\n",
        "    line_count = 0\n",
        "    for line in csv_reader:\n",
        "        if line_count == 0:\n",
        "            print(f'header:{line}')\n",
        "            line_count+=1\n",
        "        else:\n",
        "            print(f'Data:{line}')"
      ],
      "execution_count": null,
      "outputs": [
        {
          "output_type": "stream",
          "text": [
            "header:['Name', 'Hire Date', 'Salary', 'Sick Days remaining']\n",
            "Data:['Graham, Chapman', '03/15/14', '50000.00', '10']\n",
            "Data:['John, Cleese', '06/01/15', '65000.00', '8']\n",
            "Data:['Eric Idle', '05/12/14', '45000.00', '10']\n",
            "Data:['Terry, Jones', '11/01/13', '70000.00', '3']\n",
            "Data:['Terry Gilliam', '08/12/14', '48000.00', '7']\n",
            "Data:['Michael, Palin', '05/23/13', '66000.00', '8']\n"
          ],
          "name": "stdout"
        }
      ]
    },
    {
      "cell_type": "markdown",
      "metadata": {
        "id": "BFeMj0p5sQrT"
      },
      "source": [
        "## Write file Using csv module "
      ]
    },
    {
      "cell_type": "code",
      "metadata": {
        "id": "PSZzSsLVsQrU"
      },
      "source": [
        "# Writing CSV File\n",
        "\n",
        "with open('EMP_Write.csv', mode='w') as employee_file:\n",
        "    employee_writer = csv.writer(employee_file, delimiter=',', quotechar='\"', quoting=csv.QUOTE_MINIMAL)\n",
        "    \n",
        "    employee_writer.writerow(['John Smith', 'Accounting', 'November'])\n",
        "    employee_writer.writerow(['Erica Meyers', 'IT', 'March'])"
      ],
      "execution_count": null,
      "outputs": []
    },
    {
      "cell_type": "code",
      "metadata": {
        "id": "ZBOW39z8sQrU"
      },
      "source": [
        "# Write csv file with full quote\n",
        "\n",
        "with open('EMP_Write_QuoteALL.csv', mode='w') as employee_file:\n",
        "    employee_writer = csv.writer(employee_file, delimiter=',', quotechar='\"', quoting=csv.QUOTE_ALL)\n",
        "    \n",
        "    employee_writer.writerow(['John Smith', 'Accounting', 'November'])\n",
        "    employee_writer.writerow(['Erica Meyers', 'IT', 'March'])"
      ],
      "execution_count": null,
      "outputs": []
    },
    {
      "cell_type": "code",
      "metadata": {
        "id": "bacwT-qJsQrU"
      },
      "source": [
        "# Write csv file with QUOTE_NONNUMERIC; will quote all fields containing text data and convert all numeric fields to the float data type.\n",
        "\n",
        "with open('EMP_Write_QuoteNonNumeric.csv', mode='w') as employee_file:\n",
        "    employee_writer = csv.writer(employee_file, delimiter=',', quotechar='\"', quoting=csv.QUOTE_NONNUMERIC)\n",
        "    \n",
        "    employee_writer.writerow(['John Smith', 'Accounting', 'November', 100])\n",
        "    employee_writer.writerow(['Erica Meyers', 'IT', 'March', 120])"
      ],
      "execution_count": null,
      "outputs": []
    },
    {
      "cell_type": "code",
      "metadata": {
        "id": "Q_q5twTKsQrV"
      },
      "source": [
        "# Write csv file with escapechar\n",
        "\n",
        "with open('EMP_Write_Escape.csv', mode='w') as employee_file:\n",
        "    employee_writer = csv.writer(employee_file, delimiter=',', quotechar='\"', quoting=csv.QUOTE_NONE, escapechar ='|')\n",
        "    \n",
        "    employee_writer.writerow(['John, Smith', 'Accounting', 'November', 100])\n",
        "    employee_writer.writerow(['Erica, Meyers', 'IT', 'March', 120])"
      ],
      "execution_count": null,
      "outputs": []
    },
    {
      "cell_type": "code",
      "metadata": {
        "id": "wgk8p3SNsQrV"
      },
      "source": [
        "# Write csv file using dictionary method\n",
        "\n",
        "with open (\"emp_dictmethod.csv\", mode='w') as employee_file:\n",
        "    fieldnames = ['Name','Dept', 'Month','id']\n",
        "    writer = csv.DictWriter(employee_file, fieldnames=fieldnames)\n",
        "    \n",
        "    writer.writeheader()\n",
        "    writer.writerow({'Name': 'John Smith', 'Dept': 'Accounting', 'Month': 'November', 'id': 100})\n",
        "    writer.writerow({'Name': 'Erica Meyers', 'Dept': 'IT', 'Month': 'March', 'id': 120})    "
      ],
      "execution_count": null,
      "outputs": []
    },
    {
      "cell_type": "markdown",
      "metadata": {
        "id": "_Dar3BRcsQrW"
      },
      "source": [
        "## Read file Using Pandas"
      ]
    },
    {
      "cell_type": "code",
      "metadata": {
        "id": "-KiEw8rIsQrW",
        "outputId": "e413df29-c091-4296-c2d4-a8ffd9874eba"
      },
      "source": [
        "# import using pandas\n",
        "\n",
        "df_csv = pd.read_csv('hrdata.csv')\n",
        "df_csv"
      ],
      "execution_count": null,
      "outputs": [
        {
          "output_type": "execute_result",
          "data": {
            "text/html": [
              "<div>\n",
              "<style scoped>\n",
              "    .dataframe tbody tr th:only-of-type {\n",
              "        vertical-align: middle;\n",
              "    }\n",
              "\n",
              "    .dataframe tbody tr th {\n",
              "        vertical-align: top;\n",
              "    }\n",
              "\n",
              "    .dataframe thead th {\n",
              "        text-align: right;\n",
              "    }\n",
              "</style>\n",
              "<table border=\"1\" class=\"dataframe\">\n",
              "  <thead>\n",
              "    <tr style=\"text-align: right;\">\n",
              "      <th></th>\n",
              "      <th>Name</th>\n",
              "      <th>Hire Date</th>\n",
              "      <th>Salary</th>\n",
              "      <th>Sick Days remaining</th>\n",
              "    </tr>\n",
              "  </thead>\n",
              "  <tbody>\n",
              "    <tr>\n",
              "      <th>0</th>\n",
              "      <td>Graham Chapman</td>\n",
              "      <td>03/15/14</td>\n",
              "      <td>50000.0</td>\n",
              "      <td>10</td>\n",
              "    </tr>\n",
              "    <tr>\n",
              "      <th>1</th>\n",
              "      <td>John Cleese</td>\n",
              "      <td>06/01/15</td>\n",
              "      <td>65000.0</td>\n",
              "      <td>8</td>\n",
              "    </tr>\n",
              "    <tr>\n",
              "      <th>2</th>\n",
              "      <td>Eric Idle</td>\n",
              "      <td>05/12/14</td>\n",
              "      <td>45000.0</td>\n",
              "      <td>10</td>\n",
              "    </tr>\n",
              "    <tr>\n",
              "      <th>3</th>\n",
              "      <td>Terry Jones</td>\n",
              "      <td>11/01/13</td>\n",
              "      <td>70000.0</td>\n",
              "      <td>3</td>\n",
              "    </tr>\n",
              "    <tr>\n",
              "      <th>4</th>\n",
              "      <td>Terry Gilliam</td>\n",
              "      <td>08/12/14</td>\n",
              "      <td>48000.0</td>\n",
              "      <td>7</td>\n",
              "    </tr>\n",
              "    <tr>\n",
              "      <th>5</th>\n",
              "      <td>Michael Palin</td>\n",
              "      <td>05/23/13</td>\n",
              "      <td>66000.0</td>\n",
              "      <td>8</td>\n",
              "    </tr>\n",
              "  </tbody>\n",
              "</table>\n",
              "</div>"
            ],
            "text/plain": [
              "             Name Hire Date   Salary  Sick Days remaining\n",
              "0  Graham Chapman  03/15/14  50000.0                   10\n",
              "1     John Cleese  06/01/15  65000.0                    8\n",
              "2       Eric Idle  05/12/14  45000.0                   10\n",
              "3     Terry Jones  11/01/13  70000.0                    3\n",
              "4   Terry Gilliam  08/12/14  48000.0                    7\n",
              "5   Michael Palin  05/23/13  66000.0                    8"
            ]
          },
          "metadata": {
            "tags": []
          },
          "execution_count": 17
        }
      ]
    },
    {
      "cell_type": "code",
      "metadata": {
        "id": "sGnwKgajsQrX",
        "outputId": "394df539-bafd-4b32-f798-c7fcd9716eb8"
      },
      "source": [
        "df_csv = pd.read_csv('hrdata.csv', index_col = \"Name\")\n",
        "df_csv"
      ],
      "execution_count": null,
      "outputs": [
        {
          "output_type": "execute_result",
          "data": {
            "text/html": [
              "<div>\n",
              "<style scoped>\n",
              "    .dataframe tbody tr th:only-of-type {\n",
              "        vertical-align: middle;\n",
              "    }\n",
              "\n",
              "    .dataframe tbody tr th {\n",
              "        vertical-align: top;\n",
              "    }\n",
              "\n",
              "    .dataframe thead th {\n",
              "        text-align: right;\n",
              "    }\n",
              "</style>\n",
              "<table border=\"1\" class=\"dataframe\">\n",
              "  <thead>\n",
              "    <tr style=\"text-align: right;\">\n",
              "      <th></th>\n",
              "      <th>Hire Date</th>\n",
              "      <th>Salary</th>\n",
              "      <th>Sick Days remaining</th>\n",
              "    </tr>\n",
              "    <tr>\n",
              "      <th>Name</th>\n",
              "      <th></th>\n",
              "      <th></th>\n",
              "      <th></th>\n",
              "    </tr>\n",
              "  </thead>\n",
              "  <tbody>\n",
              "    <tr>\n",
              "      <th>Graham Chapman</th>\n",
              "      <td>03/15/14</td>\n",
              "      <td>50000.0</td>\n",
              "      <td>10</td>\n",
              "    </tr>\n",
              "    <tr>\n",
              "      <th>John Cleese</th>\n",
              "      <td>06/01/15</td>\n",
              "      <td>65000.0</td>\n",
              "      <td>8</td>\n",
              "    </tr>\n",
              "    <tr>\n",
              "      <th>Eric Idle</th>\n",
              "      <td>05/12/14</td>\n",
              "      <td>45000.0</td>\n",
              "      <td>10</td>\n",
              "    </tr>\n",
              "    <tr>\n",
              "      <th>Terry Jones</th>\n",
              "      <td>11/01/13</td>\n",
              "      <td>70000.0</td>\n",
              "      <td>3</td>\n",
              "    </tr>\n",
              "    <tr>\n",
              "      <th>Terry Gilliam</th>\n",
              "      <td>08/12/14</td>\n",
              "      <td>48000.0</td>\n",
              "      <td>7</td>\n",
              "    </tr>\n",
              "    <tr>\n",
              "      <th>Michael Palin</th>\n",
              "      <td>05/23/13</td>\n",
              "      <td>66000.0</td>\n",
              "      <td>8</td>\n",
              "    </tr>\n",
              "  </tbody>\n",
              "</table>\n",
              "</div>"
            ],
            "text/plain": [
              "               Hire Date   Salary  Sick Days remaining\n",
              "Name                                                  \n",
              "Graham Chapman  03/15/14  50000.0                   10\n",
              "John Cleese     06/01/15  65000.0                    8\n",
              "Eric Idle       05/12/14  45000.0                   10\n",
              "Terry Jones     11/01/13  70000.0                    3\n",
              "Terry Gilliam   08/12/14  48000.0                    7\n",
              "Michael Palin   05/23/13  66000.0                    8"
            ]
          },
          "metadata": {
            "tags": []
          },
          "execution_count": 19
        }
      ]
    },
    {
      "cell_type": "code",
      "metadata": {
        "id": "2HjM3F5FsQrX",
        "outputId": "ae99aabd-2f3c-4971-de5f-d2f4a26e0f4d"
      },
      "source": [
        "df_csv = pd.read_csv('hrdata.csv', index_col = \"Name\", parse_dates = ['Hire Date'])\n",
        "df_csv"
      ],
      "execution_count": null,
      "outputs": [
        {
          "output_type": "execute_result",
          "data": {
            "text/html": [
              "<div>\n",
              "<style scoped>\n",
              "    .dataframe tbody tr th:only-of-type {\n",
              "        vertical-align: middle;\n",
              "    }\n",
              "\n",
              "    .dataframe tbody tr th {\n",
              "        vertical-align: top;\n",
              "    }\n",
              "\n",
              "    .dataframe thead th {\n",
              "        text-align: right;\n",
              "    }\n",
              "</style>\n",
              "<table border=\"1\" class=\"dataframe\">\n",
              "  <thead>\n",
              "    <tr style=\"text-align: right;\">\n",
              "      <th></th>\n",
              "      <th>Hire Date</th>\n",
              "      <th>Salary</th>\n",
              "      <th>Sick Days remaining</th>\n",
              "    </tr>\n",
              "    <tr>\n",
              "      <th>Name</th>\n",
              "      <th></th>\n",
              "      <th></th>\n",
              "      <th></th>\n",
              "    </tr>\n",
              "  </thead>\n",
              "  <tbody>\n",
              "    <tr>\n",
              "      <th>Graham Chapman</th>\n",
              "      <td>2014-03-15</td>\n",
              "      <td>50000.0</td>\n",
              "      <td>10</td>\n",
              "    </tr>\n",
              "    <tr>\n",
              "      <th>John Cleese</th>\n",
              "      <td>2015-06-01</td>\n",
              "      <td>65000.0</td>\n",
              "      <td>8</td>\n",
              "    </tr>\n",
              "    <tr>\n",
              "      <th>Eric Idle</th>\n",
              "      <td>2014-05-12</td>\n",
              "      <td>45000.0</td>\n",
              "      <td>10</td>\n",
              "    </tr>\n",
              "    <tr>\n",
              "      <th>Terry Jones</th>\n",
              "      <td>2013-11-01</td>\n",
              "      <td>70000.0</td>\n",
              "      <td>3</td>\n",
              "    </tr>\n",
              "    <tr>\n",
              "      <th>Terry Gilliam</th>\n",
              "      <td>2014-08-12</td>\n",
              "      <td>48000.0</td>\n",
              "      <td>7</td>\n",
              "    </tr>\n",
              "    <tr>\n",
              "      <th>Michael Palin</th>\n",
              "      <td>2013-05-23</td>\n",
              "      <td>66000.0</td>\n",
              "      <td>8</td>\n",
              "    </tr>\n",
              "  </tbody>\n",
              "</table>\n",
              "</div>"
            ],
            "text/plain": [
              "                Hire Date   Salary  Sick Days remaining\n",
              "Name                                                   \n",
              "Graham Chapman 2014-03-15  50000.0                   10\n",
              "John Cleese    2015-06-01  65000.0                    8\n",
              "Eric Idle      2014-05-12  45000.0                   10\n",
              "Terry Jones    2013-11-01  70000.0                    3\n",
              "Terry Gilliam  2014-08-12  48000.0                    7\n",
              "Michael Palin  2013-05-23  66000.0                    8"
            ]
          },
          "metadata": {
            "tags": []
          },
          "execution_count": 20
        }
      ]
    },
    {
      "cell_type": "code",
      "metadata": {
        "id": "EpNtE4VasQrX",
        "outputId": "ddbdef22-1438-404b-9707-f1a98d772ea0"
      },
      "source": [
        "df_csv = pd.read_csv('hrdata.csv', index_col = \"Employee\", header=0, parse_dates = ['Hired'], names=['Employee', 'Hired', 'Salary', 'Sick Days'])\n",
        "df_csv"
      ],
      "execution_count": null,
      "outputs": [
        {
          "output_type": "execute_result",
          "data": {
            "text/html": [
              "<div>\n",
              "<style scoped>\n",
              "    .dataframe tbody tr th:only-of-type {\n",
              "        vertical-align: middle;\n",
              "    }\n",
              "\n",
              "    .dataframe tbody tr th {\n",
              "        vertical-align: top;\n",
              "    }\n",
              "\n",
              "    .dataframe thead th {\n",
              "        text-align: right;\n",
              "    }\n",
              "</style>\n",
              "<table border=\"1\" class=\"dataframe\">\n",
              "  <thead>\n",
              "    <tr style=\"text-align: right;\">\n",
              "      <th></th>\n",
              "      <th>Hired</th>\n",
              "      <th>Salary</th>\n",
              "      <th>Sick Days</th>\n",
              "    </tr>\n",
              "    <tr>\n",
              "      <th>Employee</th>\n",
              "      <th></th>\n",
              "      <th></th>\n",
              "      <th></th>\n",
              "    </tr>\n",
              "  </thead>\n",
              "  <tbody>\n",
              "    <tr>\n",
              "      <th>Graham Chapman</th>\n",
              "      <td>2014-03-15</td>\n",
              "      <td>50000.0</td>\n",
              "      <td>10</td>\n",
              "    </tr>\n",
              "    <tr>\n",
              "      <th>John Cleese</th>\n",
              "      <td>2015-06-01</td>\n",
              "      <td>65000.0</td>\n",
              "      <td>8</td>\n",
              "    </tr>\n",
              "    <tr>\n",
              "      <th>Eric Idle</th>\n",
              "      <td>2014-05-12</td>\n",
              "      <td>45000.0</td>\n",
              "      <td>10</td>\n",
              "    </tr>\n",
              "    <tr>\n",
              "      <th>Terry Jones</th>\n",
              "      <td>2013-11-01</td>\n",
              "      <td>70000.0</td>\n",
              "      <td>3</td>\n",
              "    </tr>\n",
              "    <tr>\n",
              "      <th>Terry Gilliam</th>\n",
              "      <td>2014-08-12</td>\n",
              "      <td>48000.0</td>\n",
              "      <td>7</td>\n",
              "    </tr>\n",
              "    <tr>\n",
              "      <th>Michael Palin</th>\n",
              "      <td>2013-05-23</td>\n",
              "      <td>66000.0</td>\n",
              "      <td>8</td>\n",
              "    </tr>\n",
              "  </tbody>\n",
              "</table>\n",
              "</div>"
            ],
            "text/plain": [
              "                    Hired   Salary  Sick Days\n",
              "Employee                                     \n",
              "Graham Chapman 2014-03-15  50000.0         10\n",
              "John Cleese    2015-06-01  65000.0          8\n",
              "Eric Idle      2014-05-12  45000.0         10\n",
              "Terry Jones    2013-11-01  70000.0          3\n",
              "Terry Gilliam  2014-08-12  48000.0          7\n",
              "Michael Palin  2013-05-23  66000.0          8"
            ]
          },
          "metadata": {
            "tags": []
          },
          "execution_count": 22
        }
      ]
    },
    {
      "cell_type": "markdown",
      "metadata": {
        "id": "4H77eJRTsQrY"
      },
      "source": [
        "## Write file Using csv module "
      ]
    },
    {
      "cell_type": "code",
      "metadata": {
        "id": "1VfRXKxasQrY"
      },
      "source": [
        "# write csv \n",
        "df_csv.to_csv('hrdata_modified.csv')"
      ],
      "execution_count": null,
      "outputs": []
    },
    {
      "cell_type": "code",
      "metadata": {
        "id": "U-a_rdvksQrY"
      },
      "source": [
        ""
      ],
      "execution_count": null,
      "outputs": []
    }
  ]
}